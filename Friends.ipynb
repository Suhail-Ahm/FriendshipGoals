{
  "nbformat": 4,
  "nbformat_minor": 0,
  "metadata": {
    "colab": {
      "name": "Friends.ipynb",
      "provenance": []
    },
    "kernelspec": {
      "name": "python3",
      "display_name": "Python 3"
    },
    "accelerator": "GPU"
  },
  "cells": [
    {
      "cell_type": "code",
      "metadata": {
        "id": "tmmCfn-zwEEP",
        "outputId": "59e625bd-391a-4d7a-f198-1dc72d2c4678",
        "colab": {
          "base_uri": "https://localhost:8080/",
          "height": 34
        }
      },
      "source": [
        "from google.colab import drive\n",
        "drive.mount('/content/gdrive')"
      ],
      "execution_count": null,
      "outputs": [
        {
          "output_type": "stream",
          "text": [
            "Mounted at /content/gdrive\n"
          ],
          "name": "stdout"
        }
      ]
    },
    {
      "cell_type": "markdown",
      "metadata": {
        "id": "ZN5MgauaMY4T"
      },
      "source": [
        "Importing necessary libraries"
      ]
    },
    {
      "cell_type": "code",
      "metadata": {
        "id": "ddwUzozN1Jsg"
      },
      "source": [
        "from keras_preprocessing.image import ImageDataGenerator\n",
        "from tensorflow.keras.applications.resnet50 import ResNet50\n",
        "from tensorflow.keras.applications.vgg16 import VGG16\n",
        "from tensorflow.keras.applications.inception_v3 import InceptionV3\n",
        "from tensorflow.keras.optimizers import Nadam,SGD\n",
        "from tensorflow.keras.layers import Input, Flatten, Dense\n",
        "from keras.models import Model\n",
        "import glob\n",
        "import os\n",
        "from PIL import Image\n",
        "import matplotlib.pyplot as plt\n",
        "import numpy as np\n",
        "from keras.preprocessing import image\n",
        "import tensorflow\n",
        "import pandas as pd\n",
        "from sklearn.metrics import recall_score\n",
        "from google.colab import files"
      ],
      "execution_count": null,
      "outputs": []
    },
    {
      "cell_type": "markdown",
      "metadata": {
        "id": "VhvT5OZaMppK"
      },
      "source": [
        "Importing Dataset from google drive"
      ]
    },
    {
      "cell_type": "code",
      "metadata": {
        "id": "NmL1NGnY1rwQ",
        "outputId": "83cc004c-06b3-4c6e-8d1d-f54542560f37",
        "colab": {
          "base_uri": "https://localhost:8080/",
          "height": 34
        }
      },
      "source": [
        "train_path = '/content/gdrive/My Drive/Friend1'\n",
        "train = ImageDataGenerator().flow_from_directory(train_path,target_size=(224, 224),classes=['Adults','Teenagers','Toddler'],batch_size=32)"
      ],
      "execution_count": null,
      "outputs": [
        {
          "output_type": "stream",
          "text": [
            "Found 324 images belonging to 3 classes.\n"
          ],
          "name": "stdout"
        }
      ]
    },
    {
      "cell_type": "markdown",
      "metadata": {
        "id": "IC-OmqECMy6m"
      },
      "source": [
        "Implementing Resnet50 using keras "
      ]
    },
    {
      "cell_type": "code",
      "metadata": {
        "id": "DHJN5_7J2HVA"
      },
      "source": [
        "model = ResNet50(input_shape=((224,224,3)),include_top=False)\n",
        "inp = Input(shape=(224,224,3),name = 'image_input') # Image shape (224,224,3)\n",
        "model_new = model(inp)\n"
      ],
      "execution_count": null,
      "outputs": []
    },
    {
      "cell_type": "markdown",
      "metadata": {
        "id": "QvjIDZf4NCPT"
      },
      "source": [
        "model = VGG16(classes=3,weights=None,input_shape=((256,256,3)))\n",
        "\n",
        "model = InceptionV3(classes=3,weights=None,input_shape=((256,256,3)))\n",
        "\n",
        "model = tensorflow.keras.applications.InceptionResNetV2(weights=None,input_shape=((299,299,3)),pooling=None, classes=3,classifier_activation=\"softmax\")"
      ]
    },
    {
      "cell_type": "code",
      "metadata": {
        "id": "xeuF2_HjnI74"
      },
      "source": [
        "model.summary()"
      ],
      "execution_count": null,
      "outputs": []
    },
    {
      "cell_type": "code",
      "metadata": {
        "id": "V_MUXcg6lViH"
      },
      "source": [
        "x = Flatten(name='flatten')(model_new)\n",
        "x = Dense(1024, activation='relu', name='fc1')(x)\n",
        "x = Dense(3, activation='softmax', name='predictions')(x)"
      ],
      "execution_count": null,
      "outputs": []
    },
    {
      "cell_type": "code",
      "metadata": {
        "id": "OxPlWhcElVBt"
      },
      "source": [
        "my_model = Model(inputs=inp, outputs=x)"
      ],
      "execution_count": null,
      "outputs": []
    },
    {
      "cell_type": "code",
      "metadata": {
        "id": "RyAG_NPQlUbW"
      },
      "source": [
        "my_model.summary()"
      ],
      "execution_count": null,
      "outputs": []
    },
    {
      "cell_type": "code",
      "metadata": {
        "id": "iRewhctZPhos"
      },
      "source": [
        "nadam = Nadam(learning_rate=0.0001)"
      ],
      "execution_count": null,
      "outputs": []
    },
    {
      "cell_type": "code",
      "metadata": {
        "id": "b6Ra544X4Q5I"
      },
      "source": [
        "my_model.compile(optimizer=nadam,loss='categorical_crossentropy',metrics=['accuracy'])"
      ],
      "execution_count": null,
      "outputs": []
    },
    {
      "cell_type": "code",
      "metadata": {
        "id": "WP848FGO5AG9"
      },
      "source": [
        "#callback = tensorflow.keras.callbacks.EarlyStopping(monitor='loss', patience=2)\n",
        "my_model.fit(x=train,epochs=20,validation_data=train,verbose=1) #120"
      ],
      "execution_count": null,
      "outputs": []
    },
    {
      "cell_type": "code",
      "metadata": {
        "id": "AILvWVV16TCk"
      },
      "source": [
        "imd = r\"/content/gdrive/My Drive/Friendtest\"\n",
        "path=os.path.join(imd, '*g')\n",
        "files=glob.glob(path)"
      ],
      "execution_count": null,
      "outputs": []
    },
    {
      "cell_type": "code",
      "metadata": {
        "id": "YiWOTL34BdS9"
      },
      "source": [
        "Filename=[]\n",
        "Category=[]\n",
        "for f1 in files:\n",
        "    img = image.load_img(f1, target_size=(224,224))\n",
        "    img_tensor = image.img_to_array(img)\n",
        "    img_tensor = np.expand_dims(img_tensor, axis=0)\n",
        "    y_prob = my_model.predict(img_tensor)\n",
        "    y_pred= y_prob.argmax(axis=-1)\n",
        "    if(y_pred == 0):\n",
        "      Category.append(\"Adults\")\n",
        "    if(y_pred == 1):\n",
        "      Category.append(\"Teenagers\")\n",
        "    if(y_pred == 2):\n",
        "      Category.append(\"Toddler\")    \n",
        "    Filename.append(f1[36:])"
      ],
      "execution_count": null,
      "outputs": []
    },
    {
      "cell_type": "code",
      "metadata": {
        "id": "ya8vIbKDGibV"
      },
      "source": [
        "Prediction = pd.DataFrame({\"Filename\":Filename , \"Category\":Category})"
      ],
      "execution_count": null,
      "outputs": []
    },
    {
      "cell_type": "code",
      "metadata": {
        "id": "EyrZACTSHxmo",
        "outputId": "b5386375-ff68-455e-a6d4-d44ca0b781a4",
        "colab": {
          "base_uri": "https://localhost:8080/",
          "height": 17
        }
      },
      "source": [
        ""
      ],
      "execution_count": null,
      "outputs": [
        {
          "output_type": "display_data",
          "data": {
            "application/javascript": [
              "\n",
              "    async function download(id, filename, size) {\n",
              "      if (!google.colab.kernel.accessAllowed) {\n",
              "        return;\n",
              "      }\n",
              "      const div = document.createElement('div');\n",
              "      const label = document.createElement('label');\n",
              "      label.textContent = `Downloading \"${filename}\": `;\n",
              "      div.appendChild(label);\n",
              "      const progress = document.createElement('progress');\n",
              "      progress.max = size;\n",
              "      div.appendChild(progress);\n",
              "      document.body.appendChild(div);\n",
              "\n",
              "      const buffers = [];\n",
              "      let downloaded = 0;\n",
              "\n",
              "      const channel = await google.colab.kernel.comms.open(id);\n",
              "      // Send a message to notify the kernel that we're ready.\n",
              "      channel.send({})\n",
              "\n",
              "      for await (const message of channel.messages) {\n",
              "        // Send a message to notify the kernel that we're ready.\n",
              "        channel.send({})\n",
              "        if (message.buffers) {\n",
              "          for (const buffer of message.buffers) {\n",
              "            buffers.push(buffer);\n",
              "            downloaded += buffer.byteLength;\n",
              "            progress.value = downloaded;\n",
              "          }\n",
              "        }\n",
              "      }\n",
              "      const blob = new Blob(buffers, {type: 'application/binary'});\n",
              "      const a = document.createElement('a');\n",
              "      a.href = window.URL.createObjectURL(blob);\n",
              "      a.download = filename;\n",
              "      div.appendChild(a);\n",
              "      a.click();\n",
              "      div.remove();\n",
              "    }\n",
              "  "
            ],
            "text/plain": [
              "<IPython.core.display.Javascript object>"
            ]
          },
          "metadata": {
            "tags": []
          }
        },
        {
          "output_type": "display_data",
          "data": {
            "application/javascript": [
              "download(\"download_6b4afbd4-a5bc-4002-9f1b-929374aff9ae\", \"Predictio.csv\", 6279)"
            ],
            "text/plain": [
              "<IPython.core.display.Javascript object>"
            ]
          },
          "metadata": {
            "tags": []
          }
        }
      ]
    },
    {
      "cell_type": "code",
      "metadata": {
        "id": "AeHj5iqLvMhR"
      },
      "source": [
        ""
      ],
      "execution_count": null,
      "outputs": []
    }
  ]
}